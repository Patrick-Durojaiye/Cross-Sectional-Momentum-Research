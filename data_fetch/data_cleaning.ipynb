{
 "cells": [
  {
   "cell_type": "code",
   "metadata": {
    "ExecuteTime": {
     "end_time": "2024-11-13T23:46:08.838547Z",
     "start_time": "2024-11-13T23:46:05.926999Z"
    }
   },
   "source": [
    "import re\n",
    "\n",
    "import pandas as pd\n",
    "import os"
   ],
   "outputs": [],
   "execution_count": 2
  },
  {
   "cell_type": "code",
   "metadata": {
    "ExecuteTime": {
     "end_time": "2024-11-13T23:46:08.854561Z",
     "start_time": "2024-11-13T23:46:08.849557Z"
    }
   },
   "source": [
    "input_dir = '../data/uncleaned/universe_data'\n",
    "output_dir = '../data/cleaned/universe_data'\n",
    "\n",
    "os.makedirs(output_dir, exist_ok=True)"
   ],
   "outputs": [],
   "execution_count": 3
  },
  {
   "metadata": {
    "ExecuteTime": {
     "end_time": "2024-11-12T02:37:50.401262Z",
     "start_time": "2024-11-12T02:37:50.384120Z"
    }
   },
   "cell_type": "code",
   "source": "coins_to_remove = ['USDT', 'USDC', 'BUSD', 'DAI', 'WBTC', 'TUSD', 'USDP', 'USDD', 'GUSD', 'PAXG', 'FEI', 'USDTC', 'USDE', 'WSTETH', 'WETH', 'WEETH', 'USDS', 'FDUSD', 'RETH', 'METH', 'SOLVBTC', 'CBBTC', 'MSOL', 'EETH', 'LBTC', 'SOLVBTC.BBN', 'JUPSOL', 'RSETH', 'BNSOL', 'USDC.E', 'FRXETH', 'PAXG', 'PYUSD', 'TUSD']",
   "outputs": [],
   "execution_count": 45
  },
  {
   "cell_type": "code",
   "metadata": {
    "ExecuteTime": {
     "end_time": "2024-11-12T02:37:50.790364Z",
     "start_time": "2024-11-12T02:37:50.777352Z"
    }
   },
   "source": [
    "def clean_data(df):\n",
    "    # Remove the symbol prefix from the 'Name' column based on the 'Symbol' column\n",
    "    df['Name'] = df.apply(lambda row: row['Name'].replace(row['Symbol'], '', 1) if row['Name'].startswith(row['Symbol']) else row['Name'], axis=1)\n",
    "\n",
    "    # Remove the $ sign and convert the 'Market Cap' column to float\n",
    "    df['Market Cap'] = df['Market Cap'].replace('[\\$,]', '', regex=True).astype(float)\n",
    "\n",
    "    # Drop rows where the 'Name' column matches any value in coins_to_remove\n",
    "    df = df[~df['Symbol'].isin(coins_to_remove)]\n",
    "\n",
    "    # Drop unnecessary columns\n",
    "    columns_to_drop = ['Price', 'Circulating Supply', '% 1h', '% 24h', '% 7d']\n",
    "    df = df.drop(columns=columns_to_drop)\n",
    "    \n",
    "    df.reset_index(drop=True, inplace=True)\n",
    "    df['Rank'] = df.index +1\n",
    "\n",
    "    return df"
   ],
   "outputs": [],
   "execution_count": 46
  },
  {
   "cell_type": "code",
   "metadata": {
    "ExecuteTime": {
     "end_time": "2024-11-12T02:37:52.102610Z",
     "start_time": "2024-11-12T02:37:51.221741Z"
    }
   },
   "source": [
    "for file_name in os.listdir(input_dir):\n",
    "    if file_name.endswith('.parquet'):\n",
    "        file_path = os.path.join(input_dir, file_name)\n",
    "        df = pd.read_parquet(file_path)\n",
    "\n",
    "        df_cleaned = clean_data(df)\n",
    "\n",
    "        # Save the cleaned data to a new parquet file\n",
    "        output_file_path = os.path.join(output_dir, file_name)\n",
    "        df_cleaned.to_parquet(output_file_path)\n",
    "\n",
    "        print(f\"Cleaned and saved {file_name}\")\n",
    "\n",
    "print(\"Data cleaning complete.\")"
   ],
   "outputs": [
    {
     "name": "stdout",
     "output_type": "stream",
     "text": [
      "Cleaned and saved universe_snapshot_20230101.parquet\n",
      "Cleaned and saved universe_snapshot_20230108.parquet\n",
      "Cleaned and saved universe_snapshot_20230115.parquet\n",
      "Cleaned and saved universe_snapshot_20230122.parquet\n",
      "Cleaned and saved universe_snapshot_20230129.parquet\n",
      "Cleaned and saved universe_snapshot_20230205.parquet\n",
      "Cleaned and saved universe_snapshot_20230212.parquet\n",
      "Cleaned and saved universe_snapshot_20230219.parquet\n",
      "Cleaned and saved universe_snapshot_20230226.parquet\n",
      "Cleaned and saved universe_snapshot_20230305.parquet\n",
      "Cleaned and saved universe_snapshot_20230312.parquet\n",
      "Cleaned and saved universe_snapshot_20230319.parquet\n",
      "Cleaned and saved universe_snapshot_20230326.parquet\n",
      "Cleaned and saved universe_snapshot_20230402.parquet\n",
      "Cleaned and saved universe_snapshot_20230409.parquet\n",
      "Cleaned and saved universe_snapshot_20230416.parquet\n",
      "Cleaned and saved universe_snapshot_20230423.parquet\n",
      "Cleaned and saved universe_snapshot_20230430.parquet\n",
      "Cleaned and saved universe_snapshot_20230507.parquet\n",
      "Cleaned and saved universe_snapshot_20230514.parquet\n",
      "Cleaned and saved universe_snapshot_20230521.parquet\n",
      "Cleaned and saved universe_snapshot_20230528.parquet\n",
      "Cleaned and saved universe_snapshot_20230604.parquet\n",
      "Cleaned and saved universe_snapshot_20230611.parquet\n",
      "Cleaned and saved universe_snapshot_20230618.parquet\n",
      "Cleaned and saved universe_snapshot_20230625.parquet\n",
      "Cleaned and saved universe_snapshot_20230702.parquet\n",
      "Cleaned and saved universe_snapshot_20230709.parquet\n",
      "Cleaned and saved universe_snapshot_20230716.parquet\n",
      "Cleaned and saved universe_snapshot_20230723.parquet\n",
      "Cleaned and saved universe_snapshot_20230730.parquet\n",
      "Cleaned and saved universe_snapshot_20230806.parquet\n",
      "Cleaned and saved universe_snapshot_20230813.parquet\n",
      "Cleaned and saved universe_snapshot_20230820.parquet\n",
      "Cleaned and saved universe_snapshot_20230827.parquet\n",
      "Cleaned and saved universe_snapshot_20230903.parquet\n",
      "Cleaned and saved universe_snapshot_20230910.parquet\n",
      "Cleaned and saved universe_snapshot_20230917.parquet\n",
      "Cleaned and saved universe_snapshot_20230924.parquet\n",
      "Cleaned and saved universe_snapshot_20231001.parquet\n",
      "Cleaned and saved universe_snapshot_20231008.parquet\n",
      "Cleaned and saved universe_snapshot_20231015.parquet\n",
      "Cleaned and saved universe_snapshot_20231022.parquet\n",
      "Cleaned and saved universe_snapshot_20231029.parquet\n",
      "Cleaned and saved universe_snapshot_20231105.parquet\n",
      "Cleaned and saved universe_snapshot_20231112.parquet\n",
      "Cleaned and saved universe_snapshot_20231119.parquet\n",
      "Cleaned and saved universe_snapshot_20231126.parquet\n",
      "Cleaned and saved universe_snapshot_20231203.parquet\n",
      "Cleaned and saved universe_snapshot_20231210.parquet\n",
      "Cleaned and saved universe_snapshot_20231217.parquet\n",
      "Cleaned and saved universe_snapshot_20231224.parquet\n",
      "Cleaned and saved universe_snapshot_20231231.parquet\n",
      "Cleaned and saved universe_snapshot_20240107.parquet\n",
      "Cleaned and saved universe_snapshot_20240114.parquet\n",
      "Cleaned and saved universe_snapshot_20240121.parquet\n",
      "Cleaned and saved universe_snapshot_20240128.parquet\n",
      "Cleaned and saved universe_snapshot_20240204.parquet\n",
      "Cleaned and saved universe_snapshot_20240211.parquet\n",
      "Cleaned and saved universe_snapshot_20240218.parquet\n",
      "Cleaned and saved universe_snapshot_20240225.parquet\n",
      "Cleaned and saved universe_snapshot_20240303.parquet\n",
      "Cleaned and saved universe_snapshot_20240310.parquet\n",
      "Cleaned and saved universe_snapshot_20240317.parquet\n",
      "Cleaned and saved universe_snapshot_20240324.parquet\n",
      "Cleaned and saved universe_snapshot_20240331.parquet\n",
      "Cleaned and saved universe_snapshot_20240407.parquet\n",
      "Cleaned and saved universe_snapshot_20240414.parquet\n",
      "Cleaned and saved universe_snapshot_20240421.parquet\n",
      "Cleaned and saved universe_snapshot_20240428.parquet\n",
      "Cleaned and saved universe_snapshot_20240505.parquet\n",
      "Cleaned and saved universe_snapshot_20240512.parquet\n",
      "Cleaned and saved universe_snapshot_20240519.parquet\n",
      "Cleaned and saved universe_snapshot_20240526.parquet\n",
      "Cleaned and saved universe_snapshot_20240602.parquet\n",
      "Cleaned and saved universe_snapshot_20240609.parquet\n",
      "Cleaned and saved universe_snapshot_20240616.parquet\n",
      "Cleaned and saved universe_snapshot_20240623.parquet\n",
      "Cleaned and saved universe_snapshot_20240630.parquet\n",
      "Cleaned and saved universe_snapshot_20240707.parquet\n",
      "Cleaned and saved universe_snapshot_20240714.parquet\n",
      "Cleaned and saved universe_snapshot_20240721.parquet\n",
      "Cleaned and saved universe_snapshot_20240728.parquet\n",
      "Cleaned and saved universe_snapshot_20240804.parquet\n",
      "Cleaned and saved universe_snapshot_20240811.parquet\n",
      "Cleaned and saved universe_snapshot_20240818.parquet\n",
      "Cleaned and saved universe_snapshot_20240825.parquet\n",
      "Cleaned and saved universe_snapshot_20240901.parquet\n",
      "Cleaned and saved universe_snapshot_20240908.parquet\n",
      "Cleaned and saved universe_snapshot_20240915.parquet\n",
      "Cleaned and saved universe_snapshot_20240922.parquet\n",
      "Cleaned and saved universe_snapshot_20240929.parquet\n",
      "Cleaned and saved universe_snapshot_20241006.parquet\n",
      "Cleaned and saved universe_snapshot_20241013.parquet\n",
      "Cleaned and saved universe_snapshot_20241020.parquet\n",
      "Cleaned and saved universe_snapshot_20241027.parquet\n",
      "Data cleaning complete.\n"
     ]
    }
   ],
   "execution_count": 47
  },
  {
   "cell_type": "code",
   "metadata": {
    "ExecuteTime": {
     "end_time": "2024-11-12T19:00:08.347215Z",
     "start_time": "2024-11-12T19:00:08.117549Z"
    }
   },
   "source": "df = pd.read_parquet('../data/cleaned/universe_data/universe_snapshot_20230108.parquet')\n",
   "outputs": [],
   "execution_count": 54
  },
  {
   "cell_type": "code",
   "source": "print(df.head(100))",
   "metadata": {
    "collapsed": false,
    "pycharm": {
     "name": "#%%\n"
    },
    "ExecuteTime": {
     "end_time": "2024-11-12T19:00:09.062393Z",
     "start_time": "2024-11-12T19:00:09.034367Z"
    }
   },
   "outputs": [
    {
     "name": "stdout",
     "output_type": "stream",
     "text": [
      "    Rank            Name Symbol    Market Cap       volume (24h)   \n",
      "0      1         Bitcoin    BTC  3.291145e+11  $9,768,827,914.24   \n",
      "1      2        Ethereum    ETH  1.575392e+11  $3,495,088,904.55   \n",
      "2      3             BNB    BNB  4.389155e+10    $491,734,030.19   \n",
      "3      4             XRP    XRP  1.746263e+10    $515,669,684.01   \n",
      "4      5         Cardano    ADA  1.019150e+10    $391,160,515.16   \n",
      "..   ...             ...    ...           ...                ... ..\n",
      "95    96  Convex Finance    CVX  2.364900e+08      $3,611,023.83   \n",
      "96    97    Bitcoin Gold    BTG  2.305558e+08      $5,628,057.94   \n",
      "97    98          Gnosis    GNO  2.283013e+08      $1,682,325.39   \n",
      "98    99   Oasis Network   ROSE  2.287329e+08     $26,474,484.45   \n",
      "99   100            Gala   GALA  2.429968e+08    $630,965,741.32   \n",
      "\n",
      "[100 rows x 6 columns]\n"
     ]
    }
   ],
   "execution_count": 55
  },
  {
   "metadata": {
    "ExecuteTime": {
     "end_time": "2024-11-12T19:01:27.942658Z",
     "start_time": "2024-11-12T19:01:27.925641Z"
    }
   },
   "cell_type": "code",
   "source": "len(df)",
   "outputs": [
    {
     "data": {
      "text/plain": [
       "189"
      ]
     },
     "execution_count": 57,
     "metadata": {},
     "output_type": "execute_result"
    }
   ],
   "execution_count": 57
  },
  {
   "metadata": {
    "ExecuteTime": {
     "end_time": "2024-11-12T19:01:10.614320Z",
     "start_time": "2024-11-12T19:01:10.534248Z"
    }
   },
   "cell_type": "code",
   "source": "df['Symbol'].str.isupper().value_counts()",
   "outputs": [
    {
     "data": {
      "text/plain": [
       "Symbol\n",
       "True    189\n",
       "Name: count, dtype: int64"
      ]
     },
     "execution_count": 56,
     "metadata": {},
     "output_type": "execute_result"
    }
   ],
   "execution_count": 56
  },
  {
   "metadata": {
    "ExecuteTime": {
     "end_time": "2024-11-14T14:38:23.029159Z",
     "start_time": "2024-11-14T14:38:23.015145Z"
    }
   },
   "cell_type": "code",
   "source": "binance_df = pd.read_csv('../data/uncleaned/binance_token_list/binance_token_list.csv')",
   "outputs": [],
   "execution_count": 170
  },
  {
   "metadata": {
    "ExecuteTime": {
     "end_time": "2024-11-14T14:38:23.455547Z",
     "start_time": "2024-11-14T14:38:23.434528Z"
    }
   },
   "cell_type": "code",
   "source": "binance_df.head()",
   "outputs": [
    {
     "data": {
      "text/plain": [
       "        id       type            availableSince\n",
       "0  btcusdt  perpetual  2019-11-17T00:00:00.000Z\n",
       "1  ethusdt  perpetual  2019-11-27T00:00:00.000Z\n",
       "2  bchusdt  perpetual  2019-12-19T00:00:00.000Z\n",
       "3  xrpusdt  perpetual  2020-01-06T00:00:00.000Z\n",
       "4  eosusdt  perpetual  2020-01-08T00:00:00.000Z"
      ],
      "text/html": [
       "<div>\n",
       "<style scoped>\n",
       "    .dataframe tbody tr th:only-of-type {\n",
       "        vertical-align: middle;\n",
       "    }\n",
       "\n",
       "    .dataframe tbody tr th {\n",
       "        vertical-align: top;\n",
       "    }\n",
       "\n",
       "    .dataframe thead th {\n",
       "        text-align: right;\n",
       "    }\n",
       "</style>\n",
       "<table border=\"1\" class=\"dataframe\">\n",
       "  <thead>\n",
       "    <tr style=\"text-align: right;\">\n",
       "      <th></th>\n",
       "      <th>id</th>\n",
       "      <th>type</th>\n",
       "      <th>availableSince</th>\n",
       "    </tr>\n",
       "  </thead>\n",
       "  <tbody>\n",
       "    <tr>\n",
       "      <th>0</th>\n",
       "      <td>btcusdt</td>\n",
       "      <td>perpetual</td>\n",
       "      <td>2019-11-17T00:00:00.000Z</td>\n",
       "    </tr>\n",
       "    <tr>\n",
       "      <th>1</th>\n",
       "      <td>ethusdt</td>\n",
       "      <td>perpetual</td>\n",
       "      <td>2019-11-27T00:00:00.000Z</td>\n",
       "    </tr>\n",
       "    <tr>\n",
       "      <th>2</th>\n",
       "      <td>bchusdt</td>\n",
       "      <td>perpetual</td>\n",
       "      <td>2019-12-19T00:00:00.000Z</td>\n",
       "    </tr>\n",
       "    <tr>\n",
       "      <th>3</th>\n",
       "      <td>xrpusdt</td>\n",
       "      <td>perpetual</td>\n",
       "      <td>2020-01-06T00:00:00.000Z</td>\n",
       "    </tr>\n",
       "    <tr>\n",
       "      <th>4</th>\n",
       "      <td>eosusdt</td>\n",
       "      <td>perpetual</td>\n",
       "      <td>2020-01-08T00:00:00.000Z</td>\n",
       "    </tr>\n",
       "  </tbody>\n",
       "</table>\n",
       "</div>"
      ]
     },
     "execution_count": 171,
     "metadata": {},
     "output_type": "execute_result"
    }
   ],
   "execution_count": 171
  },
  {
   "metadata": {
    "ExecuteTime": {
     "end_time": "2024-11-14T14:38:23.789626Z",
     "start_time": "2024-11-14T14:38:23.781620Z"
    }
   },
   "cell_type": "code",
   "source": "len(binance_df)",
   "outputs": [
    {
     "data": {
      "text/plain": [
       "463"
      ]
     },
     "execution_count": 172,
     "metadata": {},
     "output_type": "execute_result"
    }
   ],
   "execution_count": 172
  },
  {
   "metadata": {
    "ExecuteTime": {
     "end_time": "2024-11-14T14:38:24.185976Z",
     "start_time": "2024-11-14T14:38:24.178970Z"
    }
   },
   "cell_type": "code",
   "source": "binance_df = binance_df[binance_df['id'].str[-4:] != 'usdc']",
   "outputs": [],
   "execution_count": 173
  },
  {
   "metadata": {
    "ExecuteTime": {
     "end_time": "2024-11-14T14:38:24.574835Z",
     "start_time": "2024-11-14T14:38:24.560822Z"
    }
   },
   "cell_type": "code",
   "source": "len(binance_df)",
   "outputs": [
    {
     "data": {
      "text/plain": [
       "436"
      ]
     },
     "execution_count": 174,
     "metadata": {},
     "output_type": "execute_result"
    }
   ],
   "execution_count": 174
  },
  {
   "metadata": {
    "ExecuteTime": {
     "end_time": "2024-11-14T14:38:24.952907Z",
     "start_time": "2024-11-14T14:38:24.948903Z"
    }
   },
   "cell_type": "code",
   "source": "binance_df['id'] = binance_df['id'].str[:-4].str.upper()",
   "outputs": [],
   "execution_count": 175
  },
  {
   "metadata": {
    "ExecuteTime": {
     "end_time": "2024-11-14T14:38:25.299219Z",
     "start_time": "2024-11-14T14:38:25.286207Z"
    }
   },
   "cell_type": "code",
   "source": "binance_df.head()",
   "outputs": [
    {
     "data": {
      "text/plain": [
       "    id       type            availableSince\n",
       "0  BTC  perpetual  2019-11-17T00:00:00.000Z\n",
       "1  ETH  perpetual  2019-11-27T00:00:00.000Z\n",
       "2  BCH  perpetual  2019-12-19T00:00:00.000Z\n",
       "3  XRP  perpetual  2020-01-06T00:00:00.000Z\n",
       "4  EOS  perpetual  2020-01-08T00:00:00.000Z"
      ],
      "text/html": [
       "<div>\n",
       "<style scoped>\n",
       "    .dataframe tbody tr th:only-of-type {\n",
       "        vertical-align: middle;\n",
       "    }\n",
       "\n",
       "    .dataframe tbody tr th {\n",
       "        vertical-align: top;\n",
       "    }\n",
       "\n",
       "    .dataframe thead th {\n",
       "        text-align: right;\n",
       "    }\n",
       "</style>\n",
       "<table border=\"1\" class=\"dataframe\">\n",
       "  <thead>\n",
       "    <tr style=\"text-align: right;\">\n",
       "      <th></th>\n",
       "      <th>id</th>\n",
       "      <th>type</th>\n",
       "      <th>availableSince</th>\n",
       "    </tr>\n",
       "  </thead>\n",
       "  <tbody>\n",
       "    <tr>\n",
       "      <th>0</th>\n",
       "      <td>BTC</td>\n",
       "      <td>perpetual</td>\n",
       "      <td>2019-11-17T00:00:00.000Z</td>\n",
       "    </tr>\n",
       "    <tr>\n",
       "      <th>1</th>\n",
       "      <td>ETH</td>\n",
       "      <td>perpetual</td>\n",
       "      <td>2019-11-27T00:00:00.000Z</td>\n",
       "    </tr>\n",
       "    <tr>\n",
       "      <th>2</th>\n",
       "      <td>BCH</td>\n",
       "      <td>perpetual</td>\n",
       "      <td>2019-12-19T00:00:00.000Z</td>\n",
       "    </tr>\n",
       "    <tr>\n",
       "      <th>3</th>\n",
       "      <td>XRP</td>\n",
       "      <td>perpetual</td>\n",
       "      <td>2020-01-06T00:00:00.000Z</td>\n",
       "    </tr>\n",
       "    <tr>\n",
       "      <th>4</th>\n",
       "      <td>EOS</td>\n",
       "      <td>perpetual</td>\n",
       "      <td>2020-01-08T00:00:00.000Z</td>\n",
       "    </tr>\n",
       "  </tbody>\n",
       "</table>\n",
       "</div>"
      ]
     },
     "execution_count": 176,
     "metadata": {},
     "output_type": "execute_result"
    }
   ],
   "execution_count": 176
  },
  {
   "metadata": {
    "ExecuteTime": {
     "end_time": "2024-11-14T14:38:25.694036Z",
     "start_time": "2024-11-14T14:38:25.683026Z"
    }
   },
   "cell_type": "code",
   "source": "binance_df[binance_df['id'].str[:4]=='1000']",
   "outputs": [
    {
     "data": {
      "text/plain": [
       "             id       type            availableSince\n",
       "92     1000SHIB  perpetual  2021-05-10T00:00:00.000Z\n",
       "103     1000XEC  perpetual  2021-09-17T00:00:00.000Z\n",
       "127    1000LUNC  perpetual  2022-09-09T00:00:00.000Z\n",
       "163    1000PEPE  perpetual  2023-05-05T00:00:00.000Z\n",
       "164   1000FLOKI  perpetual  2023-05-06T00:00:00.000Z\n",
       "206    1000BONK  perpetual  2023-11-22T00:00:00.000Z\n",
       "213    1000SATS  perpetual  2023-12-12T00:00:00.000Z\n",
       "215    1000RATS  perpetual  2023-12-15T00:00:00.000Z\n",
       "322     1000CAT  perpetual  2024-10-21T00:00:00.000Z\n",
       "332  1000000MOG  perpetual  2024-11-07T00:00:00.000Z\n",
       "385    1000LUNC  perpetual  2022-05-31T00:00:00.000Z\n",
       "386    1000SHIB  perpetual  2022-07-20T00:00:00.000Z\n",
       "423    1000BTTC  perpetual  2022-01-26T00:00:00.000Z"
      ],
      "text/html": [
       "<div>\n",
       "<style scoped>\n",
       "    .dataframe tbody tr th:only-of-type {\n",
       "        vertical-align: middle;\n",
       "    }\n",
       "\n",
       "    .dataframe tbody tr th {\n",
       "        vertical-align: top;\n",
       "    }\n",
       "\n",
       "    .dataframe thead th {\n",
       "        text-align: right;\n",
       "    }\n",
       "</style>\n",
       "<table border=\"1\" class=\"dataframe\">\n",
       "  <thead>\n",
       "    <tr style=\"text-align: right;\">\n",
       "      <th></th>\n",
       "      <th>id</th>\n",
       "      <th>type</th>\n",
       "      <th>availableSince</th>\n",
       "    </tr>\n",
       "  </thead>\n",
       "  <tbody>\n",
       "    <tr>\n",
       "      <th>92</th>\n",
       "      <td>1000SHIB</td>\n",
       "      <td>perpetual</td>\n",
       "      <td>2021-05-10T00:00:00.000Z</td>\n",
       "    </tr>\n",
       "    <tr>\n",
       "      <th>103</th>\n",
       "      <td>1000XEC</td>\n",
       "      <td>perpetual</td>\n",
       "      <td>2021-09-17T00:00:00.000Z</td>\n",
       "    </tr>\n",
       "    <tr>\n",
       "      <th>127</th>\n",
       "      <td>1000LUNC</td>\n",
       "      <td>perpetual</td>\n",
       "      <td>2022-09-09T00:00:00.000Z</td>\n",
       "    </tr>\n",
       "    <tr>\n",
       "      <th>163</th>\n",
       "      <td>1000PEPE</td>\n",
       "      <td>perpetual</td>\n",
       "      <td>2023-05-05T00:00:00.000Z</td>\n",
       "    </tr>\n",
       "    <tr>\n",
       "      <th>164</th>\n",
       "      <td>1000FLOKI</td>\n",
       "      <td>perpetual</td>\n",
       "      <td>2023-05-06T00:00:00.000Z</td>\n",
       "    </tr>\n",
       "    <tr>\n",
       "      <th>206</th>\n",
       "      <td>1000BONK</td>\n",
       "      <td>perpetual</td>\n",
       "      <td>2023-11-22T00:00:00.000Z</td>\n",
       "    </tr>\n",
       "    <tr>\n",
       "      <th>213</th>\n",
       "      <td>1000SATS</td>\n",
       "      <td>perpetual</td>\n",
       "      <td>2023-12-12T00:00:00.000Z</td>\n",
       "    </tr>\n",
       "    <tr>\n",
       "      <th>215</th>\n",
       "      <td>1000RATS</td>\n",
       "      <td>perpetual</td>\n",
       "      <td>2023-12-15T00:00:00.000Z</td>\n",
       "    </tr>\n",
       "    <tr>\n",
       "      <th>322</th>\n",
       "      <td>1000CAT</td>\n",
       "      <td>perpetual</td>\n",
       "      <td>2024-10-21T00:00:00.000Z</td>\n",
       "    </tr>\n",
       "    <tr>\n",
       "      <th>332</th>\n",
       "      <td>1000000MOG</td>\n",
       "      <td>perpetual</td>\n",
       "      <td>2024-11-07T00:00:00.000Z</td>\n",
       "    </tr>\n",
       "    <tr>\n",
       "      <th>385</th>\n",
       "      <td>1000LUNC</td>\n",
       "      <td>perpetual</td>\n",
       "      <td>2022-05-31T00:00:00.000Z</td>\n",
       "    </tr>\n",
       "    <tr>\n",
       "      <th>386</th>\n",
       "      <td>1000SHIB</td>\n",
       "      <td>perpetual</td>\n",
       "      <td>2022-07-20T00:00:00.000Z</td>\n",
       "    </tr>\n",
       "    <tr>\n",
       "      <th>423</th>\n",
       "      <td>1000BTTC</td>\n",
       "      <td>perpetual</td>\n",
       "      <td>2022-01-26T00:00:00.000Z</td>\n",
       "    </tr>\n",
       "  </tbody>\n",
       "</table>\n",
       "</div>"
      ]
     },
     "execution_count": 177,
     "metadata": {},
     "output_type": "execute_result"
    }
   ],
   "execution_count": 177
  },
  {
   "metadata": {
    "ExecuteTime": {
     "end_time": "2024-11-14T14:38:26.038624Z",
     "start_time": "2024-11-14T14:38:26.028617Z"
    }
   },
   "cell_type": "code",
   "source": "binance_df",
   "outputs": [
    {
     "data": {
      "text/plain": [
       "             id       type            availableSince\n",
       "0           BTC  perpetual  2019-11-17T00:00:00.000Z\n",
       "1           ETH  perpetual  2019-11-27T00:00:00.000Z\n",
       "2           BCH  perpetual  2019-12-19T00:00:00.000Z\n",
       "3           XRP  perpetual  2020-01-06T00:00:00.000Z\n",
       "4           EOS  perpetual  2020-01-08T00:00:00.000Z\n",
       "..          ...        ...                       ...\n",
       "458  ETHUSDT_21     future  2021-03-16T00:00:00.000Z\n",
       "459  BTCUSDT_21     future  2021-02-03T00:00:00.000Z\n",
       "460  ETHUSDT_21     future  2021-02-04T00:00:00.000Z\n",
       "461  BTCBUSD_21     future  2021-01-05T00:00:00.000Z\n",
       "462  BTCBUSD_21     future  2021-01-05T00:00:00.000Z\n",
       "\n",
       "[436 rows x 3 columns]"
      ],
      "text/html": [
       "<div>\n",
       "<style scoped>\n",
       "    .dataframe tbody tr th:only-of-type {\n",
       "        vertical-align: middle;\n",
       "    }\n",
       "\n",
       "    .dataframe tbody tr th {\n",
       "        vertical-align: top;\n",
       "    }\n",
       "\n",
       "    .dataframe thead th {\n",
       "        text-align: right;\n",
       "    }\n",
       "</style>\n",
       "<table border=\"1\" class=\"dataframe\">\n",
       "  <thead>\n",
       "    <tr style=\"text-align: right;\">\n",
       "      <th></th>\n",
       "      <th>id</th>\n",
       "      <th>type</th>\n",
       "      <th>availableSince</th>\n",
       "    </tr>\n",
       "  </thead>\n",
       "  <tbody>\n",
       "    <tr>\n",
       "      <th>0</th>\n",
       "      <td>BTC</td>\n",
       "      <td>perpetual</td>\n",
       "      <td>2019-11-17T00:00:00.000Z</td>\n",
       "    </tr>\n",
       "    <tr>\n",
       "      <th>1</th>\n",
       "      <td>ETH</td>\n",
       "      <td>perpetual</td>\n",
       "      <td>2019-11-27T00:00:00.000Z</td>\n",
       "    </tr>\n",
       "    <tr>\n",
       "      <th>2</th>\n",
       "      <td>BCH</td>\n",
       "      <td>perpetual</td>\n",
       "      <td>2019-12-19T00:00:00.000Z</td>\n",
       "    </tr>\n",
       "    <tr>\n",
       "      <th>3</th>\n",
       "      <td>XRP</td>\n",
       "      <td>perpetual</td>\n",
       "      <td>2020-01-06T00:00:00.000Z</td>\n",
       "    </tr>\n",
       "    <tr>\n",
       "      <th>4</th>\n",
       "      <td>EOS</td>\n",
       "      <td>perpetual</td>\n",
       "      <td>2020-01-08T00:00:00.000Z</td>\n",
       "    </tr>\n",
       "    <tr>\n",
       "      <th>...</th>\n",
       "      <td>...</td>\n",
       "      <td>...</td>\n",
       "      <td>...</td>\n",
       "    </tr>\n",
       "    <tr>\n",
       "      <th>458</th>\n",
       "      <td>ETHUSDT_21</td>\n",
       "      <td>future</td>\n",
       "      <td>2021-03-16T00:00:00.000Z</td>\n",
       "    </tr>\n",
       "    <tr>\n",
       "      <th>459</th>\n",
       "      <td>BTCUSDT_21</td>\n",
       "      <td>future</td>\n",
       "      <td>2021-02-03T00:00:00.000Z</td>\n",
       "    </tr>\n",
       "    <tr>\n",
       "      <th>460</th>\n",
       "      <td>ETHUSDT_21</td>\n",
       "      <td>future</td>\n",
       "      <td>2021-02-04T00:00:00.000Z</td>\n",
       "    </tr>\n",
       "    <tr>\n",
       "      <th>461</th>\n",
       "      <td>BTCBUSD_21</td>\n",
       "      <td>future</td>\n",
       "      <td>2021-01-05T00:00:00.000Z</td>\n",
       "    </tr>\n",
       "    <tr>\n",
       "      <th>462</th>\n",
       "      <td>BTCBUSD_21</td>\n",
       "      <td>future</td>\n",
       "      <td>2021-01-05T00:00:00.000Z</td>\n",
       "    </tr>\n",
       "  </tbody>\n",
       "</table>\n",
       "<p>436 rows × 3 columns</p>\n",
       "</div>"
      ]
     },
     "execution_count": 178,
     "metadata": {},
     "output_type": "execute_result"
    }
   ],
   "execution_count": 178
  },
  {
   "metadata": {
    "ExecuteTime": {
     "end_time": "2024-11-14T14:38:26.462918Z",
     "start_time": "2024-11-14T14:38:26.443901Z"
    }
   },
   "cell_type": "code",
   "source": "binance_df['type'].unique()",
   "outputs": [
    {
     "data": {
      "text/plain": [
       "array(['perpetual', 'future'], dtype=object)"
      ]
     },
     "execution_count": 179,
     "metadata": {},
     "output_type": "execute_result"
    }
   ],
   "execution_count": 179
  },
  {
   "metadata": {
    "ExecuteTime": {
     "end_time": "2024-11-14T14:38:27.001405Z",
     "start_time": "2024-11-14T14:38:26.993398Z"
    }
   },
   "cell_type": "code",
   "source": "binance_df =binance_df[binance_df['type'] != 'futures']",
   "outputs": [],
   "execution_count": 180
  },
  {
   "metadata": {
    "ExecuteTime": {
     "end_time": "2024-11-14T14:38:27.524881Z",
     "start_time": "2024-11-14T14:38:27.510868Z"
    }
   },
   "cell_type": "code",
   "source": "binance_df.head()",
   "outputs": [
    {
     "data": {
      "text/plain": [
       "    id       type            availableSince\n",
       "0  BTC  perpetual  2019-11-17T00:00:00.000Z\n",
       "1  ETH  perpetual  2019-11-27T00:00:00.000Z\n",
       "2  BCH  perpetual  2019-12-19T00:00:00.000Z\n",
       "3  XRP  perpetual  2020-01-06T00:00:00.000Z\n",
       "4  EOS  perpetual  2020-01-08T00:00:00.000Z"
      ],
      "text/html": [
       "<div>\n",
       "<style scoped>\n",
       "    .dataframe tbody tr th:only-of-type {\n",
       "        vertical-align: middle;\n",
       "    }\n",
       "\n",
       "    .dataframe tbody tr th {\n",
       "        vertical-align: top;\n",
       "    }\n",
       "\n",
       "    .dataframe thead th {\n",
       "        text-align: right;\n",
       "    }\n",
       "</style>\n",
       "<table border=\"1\" class=\"dataframe\">\n",
       "  <thead>\n",
       "    <tr style=\"text-align: right;\">\n",
       "      <th></th>\n",
       "      <th>id</th>\n",
       "      <th>type</th>\n",
       "      <th>availableSince</th>\n",
       "    </tr>\n",
       "  </thead>\n",
       "  <tbody>\n",
       "    <tr>\n",
       "      <th>0</th>\n",
       "      <td>BTC</td>\n",
       "      <td>perpetual</td>\n",
       "      <td>2019-11-17T00:00:00.000Z</td>\n",
       "    </tr>\n",
       "    <tr>\n",
       "      <th>1</th>\n",
       "      <td>ETH</td>\n",
       "      <td>perpetual</td>\n",
       "      <td>2019-11-27T00:00:00.000Z</td>\n",
       "    </tr>\n",
       "    <tr>\n",
       "      <th>2</th>\n",
       "      <td>BCH</td>\n",
       "      <td>perpetual</td>\n",
       "      <td>2019-12-19T00:00:00.000Z</td>\n",
       "    </tr>\n",
       "    <tr>\n",
       "      <th>3</th>\n",
       "      <td>XRP</td>\n",
       "      <td>perpetual</td>\n",
       "      <td>2020-01-06T00:00:00.000Z</td>\n",
       "    </tr>\n",
       "    <tr>\n",
       "      <th>4</th>\n",
       "      <td>EOS</td>\n",
       "      <td>perpetual</td>\n",
       "      <td>2020-01-08T00:00:00.000Z</td>\n",
       "    </tr>\n",
       "  </tbody>\n",
       "</table>\n",
       "</div>"
      ]
     },
     "execution_count": 181,
     "metadata": {},
     "output_type": "execute_result"
    }
   ],
   "execution_count": 181
  },
  {
   "metadata": {
    "ExecuteTime": {
     "end_time": "2024-11-14T14:38:28.062756Z",
     "start_time": "2024-11-14T14:38:28.059754Z"
    }
   },
   "cell_type": "code",
   "source": "import re",
   "outputs": [],
   "execution_count": 182
  },
  {
   "metadata": {
    "ExecuteTime": {
     "end_time": "2024-11-14T14:38:28.918422Z",
     "start_time": "2024-11-14T14:38:28.907412Z"
    }
   },
   "cell_type": "code",
   "source": [
    "def extract_date_from_filename(filename):\n",
    "    \n",
    "    match = re.search(r\"universe_snapshot_(\\d{8})\", filename)\n",
    "    if match:\n",
    "        return pd.to_datetime(match.group(1), format='%Y%m%d')#\n",
    "    return None"
   ],
   "outputs": [],
   "execution_count": 183
  },
  {
   "metadata": {
    "ExecuteTime": {
     "end_time": "2024-11-14T14:38:30.336014Z",
     "start_time": "2024-11-14T14:38:29.675412Z"
    }
   },
   "cell_type": "code",
   "source": [
    "discovered_symbols = set()\n",
    "symbol_errors = set()\n",
    "results = []\n",
    "\n",
    "for filename in sorted(os.listdir(output_dir)):\n",
    "    if filename.endswith('.parquet'):\n",
    "        file_date = extract_date_from_filename(filename)\n",
    "        if not file_date:\n",
    "            continue\n",
    "        \n",
    "        # Load the parquet file\n",
    "        file_path = os.path.join(output_dir, filename)\n",
    "        df = pd.read_parquet(file_path)\n",
    "        \n",
    "        # Process the symbols in the top 100\n",
    "        for symbol in df['Symbol'].head(100):\n",
    "            \n",
    "            if symbol not in discovered_symbols:\n",
    "                    \n",
    "                binance_df['id_stripped'] = binance_df['id'].apply(\n",
    "                    lambda x: x[7:] if x.startswith('1000000') else (x[4:] if x.startswith('1000') else x)\n",
    "                    )\n",
    "                \n",
    "                # Check if the symbol matches the stripped version\n",
    "                if symbol in binance_df['id_stripped'].values:\n",
    "                    binance_availability_date = binance_df.loc[binance_df['id_stripped'] == symbol, 'availableSince'].values[0]\n",
    "                    \n",
    "                    # Append the result\n",
    "                    results.append({\n",
    "                        'Symbol': symbol,\n",
    "                        'First_Sighted_Date': file_date,\n",
    "                        'Available_Since': pd.to_datetime(binance_availability_date)\n",
    "                    })\n",
    "                    \n",
    "                    # Mark the symbol as discovered\n",
    "                    discovered_symbols.add(symbol)\n",
    "                else:\n",
    "                    symbol_errors.add(symbol)\n",
    "\n",
    "results_df = pd.DataFrame(results)"
   ],
   "outputs": [],
   "execution_count": 184
  },
  {
   "metadata": {
    "ExecuteTime": {
     "end_time": "2024-11-14T14:38:31.357441Z",
     "start_time": "2024-11-14T14:38:31.339424Z"
    }
   },
   "cell_type": "code",
   "source": "symbol_errors",
   "outputs": [
    {
     "data": {
      "text/plain": [
       "{'AERO',\n",
       " 'AIOZ',\n",
       " 'AKT',\n",
       " 'BEAM',\n",
       " 'CORE',\n",
       " 'DEXE',\n",
       " 'DOG',\n",
       " 'FLR',\n",
       " 'GNO',\n",
       " 'JST',\n",
       " 'PRIME',\n",
       " 'XCH',\n",
       " 'XRD'}"
      ]
     },
     "execution_count": 185,
     "metadata": {},
     "output_type": "execute_result"
    }
   ],
   "execution_count": 185
  },
  {
   "metadata": {
    "ExecuteTime": {
     "end_time": "2024-11-14T14:38:32.585566Z",
     "start_time": "2024-11-14T14:38:32.574557Z"
    }
   },
   "cell_type": "code",
   "source": "exclude = ['XDC', 'ABBC', 'BGB', 'BIT', 'BONE', 'BTG', 'CHSB', 'CRO', 'CSPR', 'DCR', 'ELF', 'GT', 'HT', 'KCS', 'LEO', 'MNT', 'MX', 'NEXO', 'NFT', 'OKB', 'OSMO', 'TFUEL', 'TOMI', 'USDN', 'WEMIX', 'XAUT', 'XAUt', 'XCN', 'CNT', 'ELON', 'LN', 'RBN', 'XYM', 'MOB']",
   "outputs": [],
   "execution_count": 186
  },
  {
   "metadata": {},
   "cell_type": "markdown",
   "source": [
    "IF ETHDYDX then put it as DYDX, drop duplicates\n",
    "\n",
    "Change MIOTA to IOTA\n",
    "\n",
    "Change MOG TO 1000000MOG , its on bybit only\n",
    "Change RON to RONIN"
   ]
  },
  {
   "metadata": {},
   "cell_type": "markdown",
   "source": [
    "#BYBIT tokens\n",
    "\n",
    "Aero\n",
    "Aioz\n",
    "Akt\n",
    "CORE\n",
    "DeXe\n",
    "DOG\n",
    "FLR\n",
    "GNO\n",
    "JST\n",
    "PRIME\n",
    "XCH\n",
    "XRD\n",
    "\n"
   ]
  },
  {
   "metadata": {
    "ExecuteTime": {
     "end_time": "2024-11-14T14:38:35.970130Z",
     "start_time": "2024-11-14T14:38:35.474679Z"
    }
   },
   "cell_type": "code",
   "source": [
    "for filename in sorted(os.listdir(output_dir)):\n",
    "    \n",
    "    if filename.endswith('.parquet'):\n",
    "        file_path = os.path.join(output_dir, filename)\n",
    "        \n",
    "        df = pd.read_parquet(file_path)\n",
    "        df_filtered = df[~df['Symbol'].isin(exclude)]\n",
    "        \n",
    "        df_filtered['Symbol'] = df_filtered['Symbol'].replace({\n",
    "            'ETHDYDX': 'DYDX',\n",
    "            'MIOTA': 'IOTA',\n",
    "            'RON': 'RONIN',\n",
    "            '1000SATS':'SATS' # will likely be using coingecko snapshot so we should look to standardise this\n",
    "        })\n",
    "        \n",
    "        # TODO: Come up with a standardisation method for coinmarketcap to coingecko\n",
    "        \n",
    "        df_filtered = df_filtered.drop_duplicates(subset=['Symbol']).reset_index(drop=True)\n",
    "        df_filtered.to_parquet(file_path, index=False)\n",
    "        print('Overriden cleaned data for {}'.format(filename))\n",
    "        \n",
    "print('Rows which are not on binance/bybit/kucoin removed') # We only want to trade assets on these exchanges, reasons being exchange risks and jurisdiction restrictions "
   ],
   "outputs": [
    {
     "name": "stdout",
     "output_type": "stream",
     "text": [
      "Overriden cleaned data for universe_snapshot_20230101.parquet\n",
      "Overriden cleaned data for universe_snapshot_20230108.parquet\n",
      "Overriden cleaned data for universe_snapshot_20230115.parquet\n",
      "Overriden cleaned data for universe_snapshot_20230122.parquet\n",
      "Overriden cleaned data for universe_snapshot_20230129.parquet\n",
      "Overriden cleaned data for universe_snapshot_20230205.parquet\n",
      "Overriden cleaned data for universe_snapshot_20230212.parquet\n",
      "Overriden cleaned data for universe_snapshot_20230219.parquet\n",
      "Overriden cleaned data for universe_snapshot_20230226.parquet\n",
      "Overriden cleaned data for universe_snapshot_20230305.parquet\n",
      "Overriden cleaned data for universe_snapshot_20230312.parquet\n",
      "Overriden cleaned data for universe_snapshot_20230319.parquet\n",
      "Overriden cleaned data for universe_snapshot_20230326.parquet\n",
      "Overriden cleaned data for universe_snapshot_20230402.parquet\n",
      "Overriden cleaned data for universe_snapshot_20230409.parquet\n",
      "Overriden cleaned data for universe_snapshot_20230416.parquet\n",
      "Overriden cleaned data for universe_snapshot_20230423.parquet\n",
      "Overriden cleaned data for universe_snapshot_20230430.parquet\n",
      "Overriden cleaned data for universe_snapshot_20230507.parquet\n",
      "Overriden cleaned data for universe_snapshot_20230514.parquet\n",
      "Overriden cleaned data for universe_snapshot_20230521.parquet\n",
      "Overriden cleaned data for universe_snapshot_20230528.parquet\n",
      "Overriden cleaned data for universe_snapshot_20230604.parquet\n",
      "Overriden cleaned data for universe_snapshot_20230611.parquet\n",
      "Overriden cleaned data for universe_snapshot_20230618.parquet\n",
      "Overriden cleaned data for universe_snapshot_20230625.parquet\n",
      "Overriden cleaned data for universe_snapshot_20230702.parquet\n",
      "Overriden cleaned data for universe_snapshot_20230709.parquet\n",
      "Overriden cleaned data for universe_snapshot_20230716.parquet\n",
      "Overriden cleaned data for universe_snapshot_20230723.parquet\n",
      "Overriden cleaned data for universe_snapshot_20230730.parquet\n",
      "Overriden cleaned data for universe_snapshot_20230806.parquet\n",
      "Overriden cleaned data for universe_snapshot_20230813.parquet\n",
      "Overriden cleaned data for universe_snapshot_20230820.parquet\n",
      "Overriden cleaned data for universe_snapshot_20230827.parquet\n",
      "Overriden cleaned data for universe_snapshot_20230903.parquet\n",
      "Overriden cleaned data for universe_snapshot_20230910.parquet\n",
      "Overriden cleaned data for universe_snapshot_20230917.parquet\n",
      "Overriden cleaned data for universe_snapshot_20230924.parquet\n",
      "Overriden cleaned data for universe_snapshot_20231001.parquet\n",
      "Overriden cleaned data for universe_snapshot_20231008.parquet\n",
      "Overriden cleaned data for universe_snapshot_20231015.parquet\n",
      "Overriden cleaned data for universe_snapshot_20231022.parquet\n",
      "Overriden cleaned data for universe_snapshot_20231029.parquet\n",
      "Overriden cleaned data for universe_snapshot_20231105.parquet\n",
      "Overriden cleaned data for universe_snapshot_20231112.parquet\n",
      "Overriden cleaned data for universe_snapshot_20231119.parquet\n",
      "Overriden cleaned data for universe_snapshot_20231126.parquet\n",
      "Overriden cleaned data for universe_snapshot_20231203.parquet\n",
      "Overriden cleaned data for universe_snapshot_20231210.parquet\n",
      "Overriden cleaned data for universe_snapshot_20231217.parquet\n",
      "Overriden cleaned data for universe_snapshot_20231224.parquet\n",
      "Overriden cleaned data for universe_snapshot_20231231.parquet\n",
      "Overriden cleaned data for universe_snapshot_20240107.parquet\n",
      "Overriden cleaned data for universe_snapshot_20240114.parquet\n",
      "Overriden cleaned data for universe_snapshot_20240121.parquet\n",
      "Overriden cleaned data for universe_snapshot_20240128.parquet\n",
      "Overriden cleaned data for universe_snapshot_20240204.parquet\n",
      "Overriden cleaned data for universe_snapshot_20240211.parquet\n",
      "Overriden cleaned data for universe_snapshot_20240218.parquet\n",
      "Overriden cleaned data for universe_snapshot_20240225.parquet\n",
      "Overriden cleaned data for universe_snapshot_20240303.parquet\n",
      "Overriden cleaned data for universe_snapshot_20240310.parquet\n",
      "Overriden cleaned data for universe_snapshot_20240317.parquet\n",
      "Overriden cleaned data for universe_snapshot_20240324.parquet\n",
      "Overriden cleaned data for universe_snapshot_20240331.parquet\n",
      "Overriden cleaned data for universe_snapshot_20240407.parquet\n",
      "Overriden cleaned data for universe_snapshot_20240414.parquet\n",
      "Overriden cleaned data for universe_snapshot_20240421.parquet\n",
      "Overriden cleaned data for universe_snapshot_20240428.parquet\n",
      "Overriden cleaned data for universe_snapshot_20240505.parquet\n",
      "Overriden cleaned data for universe_snapshot_20240512.parquet\n",
      "Overriden cleaned data for universe_snapshot_20240519.parquet\n",
      "Overriden cleaned data for universe_snapshot_20240526.parquet\n",
      "Overriden cleaned data for universe_snapshot_20240602.parquet\n",
      "Overriden cleaned data for universe_snapshot_20240609.parquet\n",
      "Overriden cleaned data for universe_snapshot_20240616.parquet\n",
      "Overriden cleaned data for universe_snapshot_20240623.parquet\n",
      "Overriden cleaned data for universe_snapshot_20240630.parquet\n",
      "Overriden cleaned data for universe_snapshot_20240707.parquet\n",
      "Overriden cleaned data for universe_snapshot_20240714.parquet\n",
      "Overriden cleaned data for universe_snapshot_20240721.parquet\n",
      "Overriden cleaned data for universe_snapshot_20240728.parquet\n",
      "Overriden cleaned data for universe_snapshot_20240804.parquet\n",
      "Overriden cleaned data for universe_snapshot_20240811.parquet\n",
      "Overriden cleaned data for universe_snapshot_20240818.parquet\n",
      "Overriden cleaned data for universe_snapshot_20240825.parquet\n",
      "Overriden cleaned data for universe_snapshot_20240901.parquet\n",
      "Overriden cleaned data for universe_snapshot_20240908.parquet\n",
      "Overriden cleaned data for universe_snapshot_20240915.parquet\n",
      "Overriden cleaned data for universe_snapshot_20240922.parquet\n",
      "Overriden cleaned data for universe_snapshot_20240929.parquet\n",
      "Overriden cleaned data for universe_snapshot_20241006.parquet\n",
      "Overriden cleaned data for universe_snapshot_20241013.parquet\n",
      "Overriden cleaned data for universe_snapshot_20241020.parquet\n",
      "Overriden cleaned data for universe_snapshot_20241027.parquet\n",
      "Rows which are not on binance/bybit/kucoin removed\n"
     ]
    }
   ],
   "execution_count": 187
  },
  {
   "metadata": {
    "ExecuteTime": {
     "end_time": "2024-11-14T14:38:36.899056Z",
     "start_time": "2024-11-14T14:38:36.889047Z"
    }
   },
   "cell_type": "code",
   "source": "results_df.head()",
   "outputs": [
    {
     "data": {
      "text/plain": [
       "  Symbol First_Sighted_Date           Available_Since\n",
       "0    BTC         2023-01-01 2019-11-17 00:00:00+00:00\n",
       "1    ETH         2023-01-01 2019-11-27 00:00:00+00:00\n",
       "2    BNB         2023-01-01 2020-02-10 00:00:00+00:00\n",
       "3    XRP         2023-01-01 2020-01-06 00:00:00+00:00\n",
       "4   DOGE         2023-01-01 2020-07-10 00:00:00+00:00"
      ],
      "text/html": [
       "<div>\n",
       "<style scoped>\n",
       "    .dataframe tbody tr th:only-of-type {\n",
       "        vertical-align: middle;\n",
       "    }\n",
       "\n",
       "    .dataframe tbody tr th {\n",
       "        vertical-align: top;\n",
       "    }\n",
       "\n",
       "    .dataframe thead th {\n",
       "        text-align: right;\n",
       "    }\n",
       "</style>\n",
       "<table border=\"1\" class=\"dataframe\">\n",
       "  <thead>\n",
       "    <tr style=\"text-align: right;\">\n",
       "      <th></th>\n",
       "      <th>Symbol</th>\n",
       "      <th>First_Sighted_Date</th>\n",
       "      <th>Available_Since</th>\n",
       "    </tr>\n",
       "  </thead>\n",
       "  <tbody>\n",
       "    <tr>\n",
       "      <th>0</th>\n",
       "      <td>BTC</td>\n",
       "      <td>2023-01-01</td>\n",
       "      <td>2019-11-17 00:00:00+00:00</td>\n",
       "    </tr>\n",
       "    <tr>\n",
       "      <th>1</th>\n",
       "      <td>ETH</td>\n",
       "      <td>2023-01-01</td>\n",
       "      <td>2019-11-27 00:00:00+00:00</td>\n",
       "    </tr>\n",
       "    <tr>\n",
       "      <th>2</th>\n",
       "      <td>BNB</td>\n",
       "      <td>2023-01-01</td>\n",
       "      <td>2020-02-10 00:00:00+00:00</td>\n",
       "    </tr>\n",
       "    <tr>\n",
       "      <th>3</th>\n",
       "      <td>XRP</td>\n",
       "      <td>2023-01-01</td>\n",
       "      <td>2020-01-06 00:00:00+00:00</td>\n",
       "    </tr>\n",
       "    <tr>\n",
       "      <th>4</th>\n",
       "      <td>DOGE</td>\n",
       "      <td>2023-01-01</td>\n",
       "      <td>2020-07-10 00:00:00+00:00</td>\n",
       "    </tr>\n",
       "  </tbody>\n",
       "</table>\n",
       "</div>"
      ]
     },
     "execution_count": 188,
     "metadata": {},
     "output_type": "execute_result"
    }
   ],
   "execution_count": 188
  },
  {
   "metadata": {
    "ExecuteTime": {
     "end_time": "2024-11-14T14:38:37.675763Z",
     "start_time": "2024-11-14T14:38:37.671759Z"
    }
   },
   "cell_type": "code",
   "source": "len(results_df)",
   "outputs": [
    {
     "data": {
      "text/plain": [
       "177"
      ]
     },
     "execution_count": 189,
     "metadata": {},
     "output_type": "execute_result"
    }
   ],
   "execution_count": 189
  },
  {
   "metadata": {
    "ExecuteTime": {
     "end_time": "2024-11-14T14:38:38.543240Z",
     "start_time": "2024-11-14T14:38:38.520217Z"
    }
   },
   "cell_type": "code",
   "source": "bybit_df = pd.read_csv('../data/uncleaned/bybit_token_list/bybit_token_list.csv')",
   "outputs": [],
   "execution_count": 190
  },
  {
   "metadata": {
    "ExecuteTime": {
     "end_time": "2024-11-14T14:38:39.156800Z",
     "start_time": "2024-11-14T14:38:39.144789Z"
    }
   },
   "cell_type": "code",
   "source": "bybit_df.head()",
   "outputs": [
    {
     "data": {
      "text/plain": [
       "        id       type            availableSince\n",
       "0   BTCUSD  perpetual  2019-11-07T00:00:00.000Z\n",
       "1  BTCUSDT  perpetual  2020-05-28T00:00:00.000Z\n",
       "2  BTCPERP  perpetual  2022-06-21T00:00:00.000Z\n",
       "3   ETHUSD  perpetual  2019-11-07T00:00:00.000Z\n",
       "4  ETHUSDT  perpetual  2020-10-21T00:00:00.000Z"
      ],
      "text/html": [
       "<div>\n",
       "<style scoped>\n",
       "    .dataframe tbody tr th:only-of-type {\n",
       "        vertical-align: middle;\n",
       "    }\n",
       "\n",
       "    .dataframe tbody tr th {\n",
       "        vertical-align: top;\n",
       "    }\n",
       "\n",
       "    .dataframe thead th {\n",
       "        text-align: right;\n",
       "    }\n",
       "</style>\n",
       "<table border=\"1\" class=\"dataframe\">\n",
       "  <thead>\n",
       "    <tr style=\"text-align: right;\">\n",
       "      <th></th>\n",
       "      <th>id</th>\n",
       "      <th>type</th>\n",
       "      <th>availableSince</th>\n",
       "    </tr>\n",
       "  </thead>\n",
       "  <tbody>\n",
       "    <tr>\n",
       "      <th>0</th>\n",
       "      <td>BTCUSD</td>\n",
       "      <td>perpetual</td>\n",
       "      <td>2019-11-07T00:00:00.000Z</td>\n",
       "    </tr>\n",
       "    <tr>\n",
       "      <th>1</th>\n",
       "      <td>BTCUSDT</td>\n",
       "      <td>perpetual</td>\n",
       "      <td>2020-05-28T00:00:00.000Z</td>\n",
       "    </tr>\n",
       "    <tr>\n",
       "      <th>2</th>\n",
       "      <td>BTCPERP</td>\n",
       "      <td>perpetual</td>\n",
       "      <td>2022-06-21T00:00:00.000Z</td>\n",
       "    </tr>\n",
       "    <tr>\n",
       "      <th>3</th>\n",
       "      <td>ETHUSD</td>\n",
       "      <td>perpetual</td>\n",
       "      <td>2019-11-07T00:00:00.000Z</td>\n",
       "    </tr>\n",
       "    <tr>\n",
       "      <th>4</th>\n",
       "      <td>ETHUSDT</td>\n",
       "      <td>perpetual</td>\n",
       "      <td>2020-10-21T00:00:00.000Z</td>\n",
       "    </tr>\n",
       "  </tbody>\n",
       "</table>\n",
       "</div>"
      ]
     },
     "execution_count": 191,
     "metadata": {},
     "output_type": "execute_result"
    }
   ],
   "execution_count": 191
  },
  {
   "metadata": {
    "ExecuteTime": {
     "end_time": "2024-11-14T14:38:39.929486Z",
     "start_time": "2024-11-14T14:38:39.912603Z"
    }
   },
   "cell_type": "code",
   "source": "bybit_df = bybit_df[bybit_df['id'].str.endswith('USDT')]",
   "outputs": [],
   "execution_count": 192
  },
  {
   "metadata": {
    "ExecuteTime": {
     "end_time": "2024-11-14T14:38:40.540430Z",
     "start_time": "2024-11-14T14:38:40.532423Z"
    }
   },
   "cell_type": "code",
   "source": "bybit_df['id'] = bybit_df['id'].str[:-4].str.upper()",
   "outputs": [],
   "execution_count": 193
  },
  {
   "metadata": {
    "ExecuteTime": {
     "end_time": "2024-11-14T14:38:41.130498Z",
     "start_time": "2024-11-14T14:38:41.119488Z"
    }
   },
   "cell_type": "code",
   "source": "bybit_df",
   "outputs": [
    {
     "data": {
      "text/plain": [
       "         id       type            availableSince\n",
       "1       BTC  perpetual  2020-05-28T00:00:00.000Z\n",
       "4       ETH  perpetual  2020-10-21T00:00:00.000Z\n",
       "6      ETHW  perpetual  2022-09-16T00:00:00.000Z\n",
       "7     ETHFI  perpetual  2024-03-18T00:00:00.000Z\n",
       "9    ETHBTC  perpetual  2024-06-07T00:00:00.000Z\n",
       "..      ...        ...                       ...\n",
       "546     BIT  perpetual  2021-10-11T00:00:00.000Z\n",
       "548   CREAM  perpetual  2022-01-17T00:00:00.000Z\n",
       "549   COCOS  perpetual  2023-02-20T00:00:00.000Z\n",
       "552     ANC  perpetual  2022-03-15T00:00:00.000Z\n",
       "553    KEEP  perpetual  2021-11-16T00:00:00.000Z\n",
       "\n",
       "[480 rows x 3 columns]"
      ],
      "text/html": [
       "<div>\n",
       "<style scoped>\n",
       "    .dataframe tbody tr th:only-of-type {\n",
       "        vertical-align: middle;\n",
       "    }\n",
       "\n",
       "    .dataframe tbody tr th {\n",
       "        vertical-align: top;\n",
       "    }\n",
       "\n",
       "    .dataframe thead th {\n",
       "        text-align: right;\n",
       "    }\n",
       "</style>\n",
       "<table border=\"1\" class=\"dataframe\">\n",
       "  <thead>\n",
       "    <tr style=\"text-align: right;\">\n",
       "      <th></th>\n",
       "      <th>id</th>\n",
       "      <th>type</th>\n",
       "      <th>availableSince</th>\n",
       "    </tr>\n",
       "  </thead>\n",
       "  <tbody>\n",
       "    <tr>\n",
       "      <th>1</th>\n",
       "      <td>BTC</td>\n",
       "      <td>perpetual</td>\n",
       "      <td>2020-05-28T00:00:00.000Z</td>\n",
       "    </tr>\n",
       "    <tr>\n",
       "      <th>4</th>\n",
       "      <td>ETH</td>\n",
       "      <td>perpetual</td>\n",
       "      <td>2020-10-21T00:00:00.000Z</td>\n",
       "    </tr>\n",
       "    <tr>\n",
       "      <th>6</th>\n",
       "      <td>ETHW</td>\n",
       "      <td>perpetual</td>\n",
       "      <td>2022-09-16T00:00:00.000Z</td>\n",
       "    </tr>\n",
       "    <tr>\n",
       "      <th>7</th>\n",
       "      <td>ETHFI</td>\n",
       "      <td>perpetual</td>\n",
       "      <td>2024-03-18T00:00:00.000Z</td>\n",
       "    </tr>\n",
       "    <tr>\n",
       "      <th>9</th>\n",
       "      <td>ETHBTC</td>\n",
       "      <td>perpetual</td>\n",
       "      <td>2024-06-07T00:00:00.000Z</td>\n",
       "    </tr>\n",
       "    <tr>\n",
       "      <th>...</th>\n",
       "      <td>...</td>\n",
       "      <td>...</td>\n",
       "      <td>...</td>\n",
       "    </tr>\n",
       "    <tr>\n",
       "      <th>546</th>\n",
       "      <td>BIT</td>\n",
       "      <td>perpetual</td>\n",
       "      <td>2021-10-11T00:00:00.000Z</td>\n",
       "    </tr>\n",
       "    <tr>\n",
       "      <th>548</th>\n",
       "      <td>CREAM</td>\n",
       "      <td>perpetual</td>\n",
       "      <td>2022-01-17T00:00:00.000Z</td>\n",
       "    </tr>\n",
       "    <tr>\n",
       "      <th>549</th>\n",
       "      <td>COCOS</td>\n",
       "      <td>perpetual</td>\n",
       "      <td>2023-02-20T00:00:00.000Z</td>\n",
       "    </tr>\n",
       "    <tr>\n",
       "      <th>552</th>\n",
       "      <td>ANC</td>\n",
       "      <td>perpetual</td>\n",
       "      <td>2022-03-15T00:00:00.000Z</td>\n",
       "    </tr>\n",
       "    <tr>\n",
       "      <th>553</th>\n",
       "      <td>KEEP</td>\n",
       "      <td>perpetual</td>\n",
       "      <td>2021-11-16T00:00:00.000Z</td>\n",
       "    </tr>\n",
       "  </tbody>\n",
       "</table>\n",
       "<p>480 rows × 3 columns</p>\n",
       "</div>"
      ]
     },
     "execution_count": 194,
     "metadata": {},
     "output_type": "execute_result"
    }
   ],
   "execution_count": 194
  },
  {
   "metadata": {
    "ExecuteTime": {
     "end_time": "2024-11-14T14:38:42.299601Z",
     "start_time": "2024-11-14T14:38:42.294596Z"
    }
   },
   "cell_type": "code",
   "source": "bybit_df = bybit_df[bybit_df['type'] != 'futures']",
   "outputs": [],
   "execution_count": 195
  },
  {
   "metadata": {
    "ExecuteTime": {
     "end_time": "2024-11-14T14:38:42.991008Z",
     "start_time": "2024-11-14T14:38:42.976994Z"
    }
   },
   "cell_type": "code",
   "source": "bybit_df",
   "outputs": [
    {
     "data": {
      "text/plain": [
       "         id       type            availableSince\n",
       "1       BTC  perpetual  2020-05-28T00:00:00.000Z\n",
       "4       ETH  perpetual  2020-10-21T00:00:00.000Z\n",
       "6      ETHW  perpetual  2022-09-16T00:00:00.000Z\n",
       "7     ETHFI  perpetual  2024-03-18T00:00:00.000Z\n",
       "9    ETHBTC  perpetual  2024-06-07T00:00:00.000Z\n",
       "..      ...        ...                       ...\n",
       "546     BIT  perpetual  2021-10-11T00:00:00.000Z\n",
       "548   CREAM  perpetual  2022-01-17T00:00:00.000Z\n",
       "549   COCOS  perpetual  2023-02-20T00:00:00.000Z\n",
       "552     ANC  perpetual  2022-03-15T00:00:00.000Z\n",
       "553    KEEP  perpetual  2021-11-16T00:00:00.000Z\n",
       "\n",
       "[480 rows x 3 columns]"
      ],
      "text/html": [
       "<div>\n",
       "<style scoped>\n",
       "    .dataframe tbody tr th:only-of-type {\n",
       "        vertical-align: middle;\n",
       "    }\n",
       "\n",
       "    .dataframe tbody tr th {\n",
       "        vertical-align: top;\n",
       "    }\n",
       "\n",
       "    .dataframe thead th {\n",
       "        text-align: right;\n",
       "    }\n",
       "</style>\n",
       "<table border=\"1\" class=\"dataframe\">\n",
       "  <thead>\n",
       "    <tr style=\"text-align: right;\">\n",
       "      <th></th>\n",
       "      <th>id</th>\n",
       "      <th>type</th>\n",
       "      <th>availableSince</th>\n",
       "    </tr>\n",
       "  </thead>\n",
       "  <tbody>\n",
       "    <tr>\n",
       "      <th>1</th>\n",
       "      <td>BTC</td>\n",
       "      <td>perpetual</td>\n",
       "      <td>2020-05-28T00:00:00.000Z</td>\n",
       "    </tr>\n",
       "    <tr>\n",
       "      <th>4</th>\n",
       "      <td>ETH</td>\n",
       "      <td>perpetual</td>\n",
       "      <td>2020-10-21T00:00:00.000Z</td>\n",
       "    </tr>\n",
       "    <tr>\n",
       "      <th>6</th>\n",
       "      <td>ETHW</td>\n",
       "      <td>perpetual</td>\n",
       "      <td>2022-09-16T00:00:00.000Z</td>\n",
       "    </tr>\n",
       "    <tr>\n",
       "      <th>7</th>\n",
       "      <td>ETHFI</td>\n",
       "      <td>perpetual</td>\n",
       "      <td>2024-03-18T00:00:00.000Z</td>\n",
       "    </tr>\n",
       "    <tr>\n",
       "      <th>9</th>\n",
       "      <td>ETHBTC</td>\n",
       "      <td>perpetual</td>\n",
       "      <td>2024-06-07T00:00:00.000Z</td>\n",
       "    </tr>\n",
       "    <tr>\n",
       "      <th>...</th>\n",
       "      <td>...</td>\n",
       "      <td>...</td>\n",
       "      <td>...</td>\n",
       "    </tr>\n",
       "    <tr>\n",
       "      <th>546</th>\n",
       "      <td>BIT</td>\n",
       "      <td>perpetual</td>\n",
       "      <td>2021-10-11T00:00:00.000Z</td>\n",
       "    </tr>\n",
       "    <tr>\n",
       "      <th>548</th>\n",
       "      <td>CREAM</td>\n",
       "      <td>perpetual</td>\n",
       "      <td>2022-01-17T00:00:00.000Z</td>\n",
       "    </tr>\n",
       "    <tr>\n",
       "      <th>549</th>\n",
       "      <td>COCOS</td>\n",
       "      <td>perpetual</td>\n",
       "      <td>2023-02-20T00:00:00.000Z</td>\n",
       "    </tr>\n",
       "    <tr>\n",
       "      <th>552</th>\n",
       "      <td>ANC</td>\n",
       "      <td>perpetual</td>\n",
       "      <td>2022-03-15T00:00:00.000Z</td>\n",
       "    </tr>\n",
       "    <tr>\n",
       "      <th>553</th>\n",
       "      <td>KEEP</td>\n",
       "      <td>perpetual</td>\n",
       "      <td>2021-11-16T00:00:00.000Z</td>\n",
       "    </tr>\n",
       "  </tbody>\n",
       "</table>\n",
       "<p>480 rows × 3 columns</p>\n",
       "</div>"
      ]
     },
     "execution_count": 196,
     "metadata": {},
     "output_type": "execute_result"
    }
   ],
   "execution_count": 196
  },
  {
   "metadata": {
    "ExecuteTime": {
     "end_time": "2024-11-14T14:38:44.221544Z",
     "start_time": "2024-11-14T14:38:44.010481Z"
    }
   },
   "cell_type": "code",
   "source": [
    "discovered_symbols = set()\n",
    "results_bybit = []\n",
    "errors_symbol = set()\n",
    "\n",
    "for filename in sorted(os.listdir(output_dir)):\n",
    "    if filename.endswith('.parquet'):\n",
    "        file_date = extract_date_from_filename(filename)\n",
    "        if not file_date:\n",
    "            continue\n",
    "        \n",
    "        # Load the parquet file\n",
    "        file_path = os.path.join(output_dir, filename)\n",
    "        df = pd.read_parquet(file_path)\n",
    "        \n",
    "        # Process the symbols in the top 100\n",
    "        for symbol in symbol_errors:\n",
    "            \n",
    "            if symbol not in discovered_symbols:\n",
    "                \n",
    "                # Check if the symbol matches the stripped version\n",
    "                if symbol in bybit_df['id'].values:\n",
    "                    bybit_availability_date = bybit_df.loc[bybit_df['id'] == symbol, 'availableSince'].values[0]\n",
    "                    \n",
    "                    # Append the result\n",
    "                    results_bybit.append({\n",
    "                        'Symbol': symbol,\n",
    "                        'First_Sighted_Date': file_date,\n",
    "                        'Available_Since': pd.to_datetime(bybit_availability_date)\n",
    "                    })\n",
    "                    \n",
    "                    # Mark the symbol as discovered\n",
    "                    discovered_symbols.add(symbol)\n",
    "                else:\n",
    "                    errors_symbol.add(symbol)\n",
    "\n",
    "results_bybit_df = pd.DataFrame(results_bybit)"
   ],
   "outputs": [],
   "execution_count": 197
  },
  {
   "metadata": {
    "ExecuteTime": {
     "end_time": "2024-11-14T14:38:44.948682Z",
     "start_time": "2024-11-14T14:38:44.934670Z"
    }
   },
   "cell_type": "code",
   "source": "errors_symbol",
   "outputs": [
    {
     "data": {
      "text/plain": [
       "set()"
      ]
     },
     "execution_count": 198,
     "metadata": {},
     "output_type": "execute_result"
    }
   ],
   "execution_count": 198
  },
  {
   "metadata": {
    "ExecuteTime": {
     "end_time": "2024-11-14T14:38:46.064020Z",
     "start_time": "2024-11-14T14:38:46.050008Z"
    }
   },
   "cell_type": "code",
   "source": "results_bybit_df",
   "outputs": [
    {
     "data": {
      "text/plain": [
       "   Symbol First_Sighted_Date           Available_Since\n",
       "0     JST         2023-01-01 2022-02-25 00:00:00+00:00\n",
       "1    BEAM         2023-01-01 2023-11-14 00:00:00+00:00\n",
       "2    AIOZ         2023-01-01 2024-06-13 00:00:00+00:00\n",
       "3    CORE         2023-01-01 2023-02-09 00:00:00+00:00\n",
       "4    DEXE         2023-01-01 2024-07-25 00:00:00+00:00\n",
       "5    AERO         2023-01-01 2024-07-15 00:00:00+00:00\n",
       "6     XRD         2023-01-01 2023-12-12 00:00:00+00:00\n",
       "7   PRIME         2023-01-01 2024-09-30 00:00:00+00:00\n",
       "8     DOG         2023-01-01 2024-06-04 00:00:00+00:00\n",
       "9     FLR         2023-01-01 2023-03-17 00:00:00+00:00\n",
       "10    AKT         2023-01-01 2024-06-26 00:00:00+00:00\n",
       "11    XCH         2023-01-01 2024-05-27 00:00:00+00:00\n",
       "12    GNO         2023-01-01 2024-05-14 00:00:00+00:00"
      ],
      "text/html": [
       "<div>\n",
       "<style scoped>\n",
       "    .dataframe tbody tr th:only-of-type {\n",
       "        vertical-align: middle;\n",
       "    }\n",
       "\n",
       "    .dataframe tbody tr th {\n",
       "        vertical-align: top;\n",
       "    }\n",
       "\n",
       "    .dataframe thead th {\n",
       "        text-align: right;\n",
       "    }\n",
       "</style>\n",
       "<table border=\"1\" class=\"dataframe\">\n",
       "  <thead>\n",
       "    <tr style=\"text-align: right;\">\n",
       "      <th></th>\n",
       "      <th>Symbol</th>\n",
       "      <th>First_Sighted_Date</th>\n",
       "      <th>Available_Since</th>\n",
       "    </tr>\n",
       "  </thead>\n",
       "  <tbody>\n",
       "    <tr>\n",
       "      <th>0</th>\n",
       "      <td>JST</td>\n",
       "      <td>2023-01-01</td>\n",
       "      <td>2022-02-25 00:00:00+00:00</td>\n",
       "    </tr>\n",
       "    <tr>\n",
       "      <th>1</th>\n",
       "      <td>BEAM</td>\n",
       "      <td>2023-01-01</td>\n",
       "      <td>2023-11-14 00:00:00+00:00</td>\n",
       "    </tr>\n",
       "    <tr>\n",
       "      <th>2</th>\n",
       "      <td>AIOZ</td>\n",
       "      <td>2023-01-01</td>\n",
       "      <td>2024-06-13 00:00:00+00:00</td>\n",
       "    </tr>\n",
       "    <tr>\n",
       "      <th>3</th>\n",
       "      <td>CORE</td>\n",
       "      <td>2023-01-01</td>\n",
       "      <td>2023-02-09 00:00:00+00:00</td>\n",
       "    </tr>\n",
       "    <tr>\n",
       "      <th>4</th>\n",
       "      <td>DEXE</td>\n",
       "      <td>2023-01-01</td>\n",
       "      <td>2024-07-25 00:00:00+00:00</td>\n",
       "    </tr>\n",
       "    <tr>\n",
       "      <th>5</th>\n",
       "      <td>AERO</td>\n",
       "      <td>2023-01-01</td>\n",
       "      <td>2024-07-15 00:00:00+00:00</td>\n",
       "    </tr>\n",
       "    <tr>\n",
       "      <th>6</th>\n",
       "      <td>XRD</td>\n",
       "      <td>2023-01-01</td>\n",
       "      <td>2023-12-12 00:00:00+00:00</td>\n",
       "    </tr>\n",
       "    <tr>\n",
       "      <th>7</th>\n",
       "      <td>PRIME</td>\n",
       "      <td>2023-01-01</td>\n",
       "      <td>2024-09-30 00:00:00+00:00</td>\n",
       "    </tr>\n",
       "    <tr>\n",
       "      <th>8</th>\n",
       "      <td>DOG</td>\n",
       "      <td>2023-01-01</td>\n",
       "      <td>2024-06-04 00:00:00+00:00</td>\n",
       "    </tr>\n",
       "    <tr>\n",
       "      <th>9</th>\n",
       "      <td>FLR</td>\n",
       "      <td>2023-01-01</td>\n",
       "      <td>2023-03-17 00:00:00+00:00</td>\n",
       "    </tr>\n",
       "    <tr>\n",
       "      <th>10</th>\n",
       "      <td>AKT</td>\n",
       "      <td>2023-01-01</td>\n",
       "      <td>2024-06-26 00:00:00+00:00</td>\n",
       "    </tr>\n",
       "    <tr>\n",
       "      <th>11</th>\n",
       "      <td>XCH</td>\n",
       "      <td>2023-01-01</td>\n",
       "      <td>2024-05-27 00:00:00+00:00</td>\n",
       "    </tr>\n",
       "    <tr>\n",
       "      <th>12</th>\n",
       "      <td>GNO</td>\n",
       "      <td>2023-01-01</td>\n",
       "      <td>2024-05-14 00:00:00+00:00</td>\n",
       "    </tr>\n",
       "  </tbody>\n",
       "</table>\n",
       "</div>"
      ]
     },
     "execution_count": 199,
     "metadata": {},
     "output_type": "execute_result"
    }
   ],
   "execution_count": 199
  },
  {
   "metadata": {
    "ExecuteTime": {
     "end_time": "2024-11-14T14:38:48.170472Z",
     "start_time": "2024-11-14T14:38:48.163466Z"
    }
   },
   "cell_type": "code",
   "source": "results_bybit_df['Exchange'] = 'bybit'",
   "outputs": [],
   "execution_count": 200
  },
  {
   "metadata": {
    "ExecuteTime": {
     "end_time": "2024-11-14T14:38:48.691369Z",
     "start_time": "2024-11-14T14:38:48.682361Z"
    }
   },
   "cell_type": "code",
   "source": "results_df['Exchange'] = 'binance-futures'",
   "outputs": [],
   "execution_count": 201
  },
  {
   "metadata": {
    "ExecuteTime": {
     "end_time": "2024-11-14T14:38:49.922882Z",
     "start_time": "2024-11-14T14:38:49.904868Z"
    }
   },
   "cell_type": "code",
   "source": "universe_exchange_data = pd.concat([results_df, results_bybit_df], ignore_index=True)",
   "outputs": [],
   "execution_count": 202
  },
  {
   "metadata": {
    "ExecuteTime": {
     "end_time": "2024-11-14T14:38:50.807847Z",
     "start_time": "2024-11-14T14:38:50.790832Z"
    }
   },
   "cell_type": "code",
   "source": "universe_exchange_data",
   "outputs": [
    {
     "data": {
      "text/plain": [
       "    Symbol First_Sighted_Date           Available_Since         Exchange\n",
       "0      BTC         2023-01-01 2019-11-17 00:00:00+00:00  binance-futures\n",
       "1      ETH         2023-01-01 2019-11-27 00:00:00+00:00  binance-futures\n",
       "2      BNB         2023-01-01 2020-02-10 00:00:00+00:00  binance-futures\n",
       "3      XRP         2023-01-01 2020-01-06 00:00:00+00:00  binance-futures\n",
       "4     DOGE         2023-01-01 2020-07-10 00:00:00+00:00  binance-futures\n",
       "..     ...                ...                       ...              ...\n",
       "185    DOG         2023-01-01 2024-06-04 00:00:00+00:00            bybit\n",
       "186    FLR         2023-01-01 2023-03-17 00:00:00+00:00            bybit\n",
       "187    AKT         2023-01-01 2024-06-26 00:00:00+00:00            bybit\n",
       "188    XCH         2023-01-01 2024-05-27 00:00:00+00:00            bybit\n",
       "189    GNO         2023-01-01 2024-05-14 00:00:00+00:00            bybit\n",
       "\n",
       "[190 rows x 4 columns]"
      ],
      "text/html": [
       "<div>\n",
       "<style scoped>\n",
       "    .dataframe tbody tr th:only-of-type {\n",
       "        vertical-align: middle;\n",
       "    }\n",
       "\n",
       "    .dataframe tbody tr th {\n",
       "        vertical-align: top;\n",
       "    }\n",
       "\n",
       "    .dataframe thead th {\n",
       "        text-align: right;\n",
       "    }\n",
       "</style>\n",
       "<table border=\"1\" class=\"dataframe\">\n",
       "  <thead>\n",
       "    <tr style=\"text-align: right;\">\n",
       "      <th></th>\n",
       "      <th>Symbol</th>\n",
       "      <th>First_Sighted_Date</th>\n",
       "      <th>Available_Since</th>\n",
       "      <th>Exchange</th>\n",
       "    </tr>\n",
       "  </thead>\n",
       "  <tbody>\n",
       "    <tr>\n",
       "      <th>0</th>\n",
       "      <td>BTC</td>\n",
       "      <td>2023-01-01</td>\n",
       "      <td>2019-11-17 00:00:00+00:00</td>\n",
       "      <td>binance-futures</td>\n",
       "    </tr>\n",
       "    <tr>\n",
       "      <th>1</th>\n",
       "      <td>ETH</td>\n",
       "      <td>2023-01-01</td>\n",
       "      <td>2019-11-27 00:00:00+00:00</td>\n",
       "      <td>binance-futures</td>\n",
       "    </tr>\n",
       "    <tr>\n",
       "      <th>2</th>\n",
       "      <td>BNB</td>\n",
       "      <td>2023-01-01</td>\n",
       "      <td>2020-02-10 00:00:00+00:00</td>\n",
       "      <td>binance-futures</td>\n",
       "    </tr>\n",
       "    <tr>\n",
       "      <th>3</th>\n",
       "      <td>XRP</td>\n",
       "      <td>2023-01-01</td>\n",
       "      <td>2020-01-06 00:00:00+00:00</td>\n",
       "      <td>binance-futures</td>\n",
       "    </tr>\n",
       "    <tr>\n",
       "      <th>4</th>\n",
       "      <td>DOGE</td>\n",
       "      <td>2023-01-01</td>\n",
       "      <td>2020-07-10 00:00:00+00:00</td>\n",
       "      <td>binance-futures</td>\n",
       "    </tr>\n",
       "    <tr>\n",
       "      <th>...</th>\n",
       "      <td>...</td>\n",
       "      <td>...</td>\n",
       "      <td>...</td>\n",
       "      <td>...</td>\n",
       "    </tr>\n",
       "    <tr>\n",
       "      <th>185</th>\n",
       "      <td>DOG</td>\n",
       "      <td>2023-01-01</td>\n",
       "      <td>2024-06-04 00:00:00+00:00</td>\n",
       "      <td>bybit</td>\n",
       "    </tr>\n",
       "    <tr>\n",
       "      <th>186</th>\n",
       "      <td>FLR</td>\n",
       "      <td>2023-01-01</td>\n",
       "      <td>2023-03-17 00:00:00+00:00</td>\n",
       "      <td>bybit</td>\n",
       "    </tr>\n",
       "    <tr>\n",
       "      <th>187</th>\n",
       "      <td>AKT</td>\n",
       "      <td>2023-01-01</td>\n",
       "      <td>2024-06-26 00:00:00+00:00</td>\n",
       "      <td>bybit</td>\n",
       "    </tr>\n",
       "    <tr>\n",
       "      <th>188</th>\n",
       "      <td>XCH</td>\n",
       "      <td>2023-01-01</td>\n",
       "      <td>2024-05-27 00:00:00+00:00</td>\n",
       "      <td>bybit</td>\n",
       "    </tr>\n",
       "    <tr>\n",
       "      <th>189</th>\n",
       "      <td>GNO</td>\n",
       "      <td>2023-01-01</td>\n",
       "      <td>2024-05-14 00:00:00+00:00</td>\n",
       "      <td>bybit</td>\n",
       "    </tr>\n",
       "  </tbody>\n",
       "</table>\n",
       "<p>190 rows × 4 columns</p>\n",
       "</div>"
      ]
     },
     "execution_count": 203,
     "metadata": {},
     "output_type": "execute_result"
    }
   ],
   "execution_count": 203
  },
  {
   "metadata": {
    "ExecuteTime": {
     "end_time": "2024-11-14T14:38:52.545837Z",
     "start_time": "2024-11-14T14:38:52.534827Z"
    }
   },
   "cell_type": "code",
   "source": "len(universe_exchange_data)",
   "outputs": [
    {
     "data": {
      "text/plain": [
       "190"
      ]
     },
     "execution_count": 204,
     "metadata": {},
     "output_type": "execute_result"
    }
   ],
   "execution_count": 204
  },
  {
   "metadata": {
    "ExecuteTime": {
     "end_time": "2024-11-14T14:40:50.410444Z",
     "start_time": "2024-11-14T14:40:50.399433Z"
    }
   },
   "cell_type": "code",
   "source": "universe_exchange_data.to_csv('../data/cleaned/universe_exchange_data/universe_exchange_data.csv')",
   "outputs": [],
   "execution_count": 206
  },
  {
   "metadata": {
    "ExecuteTime": {
     "end_time": "2024-11-14T14:54:22.514122Z",
     "start_time": "2024-11-14T14:54:21.963887Z"
    }
   },
   "cell_type": "code",
   "source": [
    "for filename in sorted(os.listdir(output_dir)):\n",
    "    if filename.endswith('.parquet'):\n",
    "        file_date = extract_date_from_filename(filename)\n",
    "        if not file_date:\n",
    "            continue\n",
    "        \n",
    "        # Load the parquet file\n",
    "        file_path = os.path.join(output_dir, filename)\n",
    "        df = pd.read_parquet(file_path)\n",
    "        \n",
    "        # Keep only the first 100 rows\n",
    "        df_first_100 = df.head(100)\n",
    "        \n",
    "        # Saves the modified DataFrame back to the same file. We have a universe selection of maximum 100\n",
    "        df_first_100.to_parquet(file_path, index=False)\n",
    "        \n",
    "        print(f'Overridden file {filename} with only the first 100 rows.')\n",
    "\n",
    "print('Processing complete. Only the first 100 rows retained in each file.')"
   ],
   "outputs": [
    {
     "name": "stdout",
     "output_type": "stream",
     "text": [
      "Overridden file universe_snapshot_20230101.parquet with only the first 100 rows.\n",
      "Overridden file universe_snapshot_20230108.parquet with only the first 100 rows.\n",
      "Overridden file universe_snapshot_20230115.parquet with only the first 100 rows.\n",
      "Overridden file universe_snapshot_20230122.parquet with only the first 100 rows.\n",
      "Overridden file universe_snapshot_20230129.parquet with only the first 100 rows.\n",
      "Overridden file universe_snapshot_20230205.parquet with only the first 100 rows.\n",
      "Overridden file universe_snapshot_20230212.parquet with only the first 100 rows.\n",
      "Overridden file universe_snapshot_20230219.parquet with only the first 100 rows.\n",
      "Overridden file universe_snapshot_20230226.parquet with only the first 100 rows.\n",
      "Overridden file universe_snapshot_20230305.parquet with only the first 100 rows.\n",
      "Overridden file universe_snapshot_20230312.parquet with only the first 100 rows.\n",
      "Overridden file universe_snapshot_20230319.parquet with only the first 100 rows.\n",
      "Overridden file universe_snapshot_20230326.parquet with only the first 100 rows.\n",
      "Overridden file universe_snapshot_20230402.parquet with only the first 100 rows.\n",
      "Overridden file universe_snapshot_20230409.parquet with only the first 100 rows.\n",
      "Overridden file universe_snapshot_20230416.parquet with only the first 100 rows.\n",
      "Overridden file universe_snapshot_20230423.parquet with only the first 100 rows.\n",
      "Overridden file universe_snapshot_20230430.parquet with only the first 100 rows.\n",
      "Overridden file universe_snapshot_20230507.parquet with only the first 100 rows.\n",
      "Overridden file universe_snapshot_20230514.parquet with only the first 100 rows.\n",
      "Overridden file universe_snapshot_20230521.parquet with only the first 100 rows.\n",
      "Overridden file universe_snapshot_20230528.parquet with only the first 100 rows.\n",
      "Overridden file universe_snapshot_20230604.parquet with only the first 100 rows.\n",
      "Overridden file universe_snapshot_20230611.parquet with only the first 100 rows.\n",
      "Overridden file universe_snapshot_20230618.parquet with only the first 100 rows.\n",
      "Overridden file universe_snapshot_20230625.parquet with only the first 100 rows.\n",
      "Overridden file universe_snapshot_20230702.parquet with only the first 100 rows.\n",
      "Overridden file universe_snapshot_20230709.parquet with only the first 100 rows.\n",
      "Overridden file universe_snapshot_20230716.parquet with only the first 100 rows.\n",
      "Overridden file universe_snapshot_20230723.parquet with only the first 100 rows.\n",
      "Overridden file universe_snapshot_20230730.parquet with only the first 100 rows.\n",
      "Overridden file universe_snapshot_20230806.parquet with only the first 100 rows.\n",
      "Overridden file universe_snapshot_20230813.parquet with only the first 100 rows.\n",
      "Overridden file universe_snapshot_20230820.parquet with only the first 100 rows.\n",
      "Overridden file universe_snapshot_20230827.parquet with only the first 100 rows.\n",
      "Overridden file universe_snapshot_20230903.parquet with only the first 100 rows.\n",
      "Overridden file universe_snapshot_20230910.parquet with only the first 100 rows.\n",
      "Overridden file universe_snapshot_20230917.parquet with only the first 100 rows.\n",
      "Overridden file universe_snapshot_20230924.parquet with only the first 100 rows.\n",
      "Overridden file universe_snapshot_20231001.parquet with only the first 100 rows.\n",
      "Overridden file universe_snapshot_20231008.parquet with only the first 100 rows.\n",
      "Overridden file universe_snapshot_20231015.parquet with only the first 100 rows.\n",
      "Overridden file universe_snapshot_20231022.parquet with only the first 100 rows.\n",
      "Overridden file universe_snapshot_20231029.parquet with only the first 100 rows.\n",
      "Overridden file universe_snapshot_20231105.parquet with only the first 100 rows.\n",
      "Overridden file universe_snapshot_20231112.parquet with only the first 100 rows.\n",
      "Overridden file universe_snapshot_20231119.parquet with only the first 100 rows.\n",
      "Overridden file universe_snapshot_20231126.parquet with only the first 100 rows.\n",
      "Overridden file universe_snapshot_20231203.parquet with only the first 100 rows.\n",
      "Overridden file universe_snapshot_20231210.parquet with only the first 100 rows.\n",
      "Overridden file universe_snapshot_20231217.parquet with only the first 100 rows.\n",
      "Overridden file universe_snapshot_20231224.parquet with only the first 100 rows.\n",
      "Overridden file universe_snapshot_20231231.parquet with only the first 100 rows.\n",
      "Overridden file universe_snapshot_20240107.parquet with only the first 100 rows.\n",
      "Overridden file universe_snapshot_20240114.parquet with only the first 100 rows.\n",
      "Overridden file universe_snapshot_20240121.parquet with only the first 100 rows.\n",
      "Overridden file universe_snapshot_20240128.parquet with only the first 100 rows.\n",
      "Overridden file universe_snapshot_20240204.parquet with only the first 100 rows.\n",
      "Overridden file universe_snapshot_20240211.parquet with only the first 100 rows.\n",
      "Overridden file universe_snapshot_20240218.parquet with only the first 100 rows.\n",
      "Overridden file universe_snapshot_20240225.parquet with only the first 100 rows.\n",
      "Overridden file universe_snapshot_20240303.parquet with only the first 100 rows.\n",
      "Overridden file universe_snapshot_20240310.parquet with only the first 100 rows.\n",
      "Overridden file universe_snapshot_20240317.parquet with only the first 100 rows.\n",
      "Overridden file universe_snapshot_20240324.parquet with only the first 100 rows.\n",
      "Overridden file universe_snapshot_20240331.parquet with only the first 100 rows.\n",
      "Overridden file universe_snapshot_20240407.parquet with only the first 100 rows.\n",
      "Overridden file universe_snapshot_20240414.parquet with only the first 100 rows.\n",
      "Overridden file universe_snapshot_20240421.parquet with only the first 100 rows.\n",
      "Overridden file universe_snapshot_20240428.parquet with only the first 100 rows.\n",
      "Overridden file universe_snapshot_20240505.parquet with only the first 100 rows.\n",
      "Overridden file universe_snapshot_20240512.parquet with only the first 100 rows.\n",
      "Overridden file universe_snapshot_20240519.parquet with only the first 100 rows.\n",
      "Overridden file universe_snapshot_20240526.parquet with only the first 100 rows.\n",
      "Overridden file universe_snapshot_20240602.parquet with only the first 100 rows.\n",
      "Overridden file universe_snapshot_20240609.parquet with only the first 100 rows.\n",
      "Overridden file universe_snapshot_20240616.parquet with only the first 100 rows.\n",
      "Overridden file universe_snapshot_20240623.parquet with only the first 100 rows.\n",
      "Overridden file universe_snapshot_20240630.parquet with only the first 100 rows.\n",
      "Overridden file universe_snapshot_20240707.parquet with only the first 100 rows.\n",
      "Overridden file universe_snapshot_20240714.parquet with only the first 100 rows.\n",
      "Overridden file universe_snapshot_20240721.parquet with only the first 100 rows.\n",
      "Overridden file universe_snapshot_20240728.parquet with only the first 100 rows.\n",
      "Overridden file universe_snapshot_20240804.parquet with only the first 100 rows.\n",
      "Overridden file universe_snapshot_20240811.parquet with only the first 100 rows.\n",
      "Overridden file universe_snapshot_20240818.parquet with only the first 100 rows.\n",
      "Overridden file universe_snapshot_20240825.parquet with only the first 100 rows.\n",
      "Overridden file universe_snapshot_20240901.parquet with only the first 100 rows.\n",
      "Overridden file universe_snapshot_20240908.parquet with only the first 100 rows.\n",
      "Overridden file universe_snapshot_20240915.parquet with only the first 100 rows.\n",
      "Overridden file universe_snapshot_20240922.parquet with only the first 100 rows.\n",
      "Overridden file universe_snapshot_20240929.parquet with only the first 100 rows.\n",
      "Overridden file universe_snapshot_20241006.parquet with only the first 100 rows.\n",
      "Overridden file universe_snapshot_20241013.parquet with only the first 100 rows.\n",
      "Overridden file universe_snapshot_20241020.parquet with only the first 100 rows.\n",
      "Overridden file universe_snapshot_20241027.parquet with only the first 100 rows.\n",
      "Processing complete. Only the first 100 rows retained in each file.\n"
     ]
    }
   ],
   "execution_count": 207
  },
  {
   "metadata": {},
   "cell_type": "code",
   "outputs": [],
   "execution_count": null,
   "source": ""
  }
 ],
 "metadata": {
  "kernelspec": {
   "display_name": "Python 3",
   "language": "python",
   "name": "python3"
  },
  "language_info": {
   "codemirror_mode": {
    "name": "ipython",
    "version": 3
   },
   "file_extension": ".py",
   "mimetype": "text/x-python",
   "name": "python",
   "nbconvert_exporter": "python",
   "pygments_lexer": "ipython3",
   "version": "3.9.20"
  }
 },
 "nbformat": 4,
 "nbformat_minor": 2
}
